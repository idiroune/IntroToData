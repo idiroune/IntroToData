{
 "cells": [
  {
   "cell_type": "markdown",
   "metadata": {
    "id": "jc_8XakJdoj_"
   },
   "source": [
    "# Introduction to Data Science (UZOP) - Project - Part 1"
   ]
  },
  {
   "cell_type": "markdown",
   "metadata": {
    "id": "OEqHuTInhSm8"
   },
   "source": [
    "You will solve this project assignment using the dataset provided by the assistant you registered with. This exercise carries a total of 10 points. In case of any questions or ambiguities, please contact your assigned assistant."
   ]
  },
  {
   "cell_type": "code",
   "execution_count": null,
   "metadata": {
    "id": "q0cBJFiLiDqQ"
   },
   "outputs": [],
   "source": [
    "import pandas as pd\n",
    "import seaborn as sns\n",
    "import matplotlib.pyplot as plt"
   ]
  },
  {
   "cell_type": "markdown",
   "metadata": {
    "id": "ukoQiAtYeCNr"
   },
   "source": [
    "1. Load the given CSV file and display the first 8 rows of the dataset. (0.5 points)"
   ]
  },
  {
   "cell_type": "code",
   "execution_count": null,
   "metadata": {
    "id": "UsDFVqz5dnNR"
   },
   "outputs": [],
   "source": [
    "# CODE HERE"
   ]
  },
  {
   "cell_type": "markdown",
   "metadata": {
    "id": "R36_1na2ePWa"
   },
   "source": [
    "2. Find monotonic and constant features and remove them. (1 point)"
   ]
  },
  {
   "cell_type": "code",
   "execution_count": null,
   "metadata": {
    "id": "AZ-tPIMkeVD1"
   },
   "outputs": [],
   "source": [
    "# CODE HERE"
   ]
  },
  {
   "cell_type": "markdown",
   "metadata": {
    "id": "t292XnhGeWoO"
   },
   "source": [
    "3. Find missing values. Perform imputation/removal of missing values using an appropriate method. Explain why you applied the chosen methods. (2 points)"
   ]
  },
  {
   "cell_type": "code",
   "execution_count": null,
   "metadata": {
    "id": "Orq6jIxVeob3"
   },
   "outputs": [],
   "source": [
    "# CODE HERE"
   ]
  },
  {
   "cell_type": "markdown",
   "metadata": {
    "id": "p5eYuIUYepeM"
   },
   "source": [
    "4. Transform categorical features into numerical ones. (1 point)"
   ]
  },
  {
   "cell_type": "code",
   "execution_count": null,
   "metadata": {
    "id": "ujg6U2k0evhM"
   },
   "outputs": [],
   "source": [
    "# CODE HERE"
   ]
  },
  {
   "cell_type": "markdown",
   "metadata": {
    "id": "eWQ8Ggn8ewmq"
   },
   "source": [
    "5. For numerical features, display the mean, median, minimum, and maximum values. For categorical features, print the frequency of each value. (1.5 points)"
   ]
  },
  {
   "cell_type": "code",
   "execution_count": null,
   "metadata": {
    "id": "g5FhlAeJfBvB"
   },
   "outputs": [],
   "source": [
    "# CODE HERE"
   ]
  },
  {
   "cell_type": "markdown",
   "metadata": {
    "id": "pbcIa2zhfGCE"
   },
   "source": [
    "6. Normalize the numerical features. (1 bod)"
   ]
  },
  {
   "cell_type": "code",
   "execution_count": null,
   "metadata": {
    "id": "oFpbD2Q4fKzN"
   },
   "outputs": [],
   "source": [
    "# CODE HERE"
   ]
  },
  {
   "cell_type": "markdown",
   "metadata": {
    "id": "Reu-ZdjVfOj7"
   },
   "source": [
    "7. Create a composite plot with 4 subplots (2 rows and 2 columns). Add titles to the subplots and label the axes on each of them. Visualize the following: (3 points)\n",
    "  - Histogram of an arbitrary categorical feature\n",
    "  - Pie chart of the target variable\n",
    "  - Box plot of an arbitrary numerical feature\n",
    "  - Scatter plot of two arbitrary numerical features. Color the samples based on the value of the target variable."
   ]
  },
  {
   "cell_type": "code",
   "execution_count": null,
   "metadata": {
    "id": "pd0xZC41frtr"
   },
   "outputs": [],
   "source": [
    "# CODE HERE"
   ]
  }
 ],
 "metadata": {
  "colab": {
   "provenance": []
  },
  "kernelspec": {
   "display_name": "Python 3",
   "name": "python3"
  },
  "language_info": {
   "name": "python"
  }
 },
 "nbformat": 4,
 "nbformat_minor": 0
}
